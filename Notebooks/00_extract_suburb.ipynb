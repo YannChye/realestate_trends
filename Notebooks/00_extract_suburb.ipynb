{
 "cells": [
  {
   "cell_type": "code",
   "execution_count": 1,
   "metadata": {},
   "outputs": [],
   "source": [
    "# set up dependencies\n",
    "import pandas as pd\n",
    "import requests"
   ]
  },
  {
   "cell_type": "code",
   "execution_count": 2,
   "metadata": {},
   "outputs": [],
   "source": [
    "# use pandas to read suburb table\n",
    "url = 'https://www.matthewproctor.com/full_australian_postcodes_vic'\n",
    "header = {\n",
    "  \"User-Agent\": \"Mozilla/5.0 (X11; Linux x86_64) AppleWebKit/537.36 (KHTML, like Gecko) Chrome/50.0.2661.75 Safari/537.36\",\n",
    "  \"X-Requested-With\": \"XMLHttpRequest\"\n",
    "}\n",
    "r = requests.get(url, headers=header)\n",
    "dfs = pd.read_html(r.text,header =0)\n",
    "suburbs=dfs[0]"
   ]
  },
  {
   "cell_type": "code",
   "execution_count": 3,
   "metadata": {},
   "outputs": [],
   "source": [
    "# clean suburb data\n",
    "# drop duplicate suburbs and suburbs not in Melbourne\n",
    "suburbs['PostcodeLocality']=suburbs.Postcode.astype(str)+suburbs.Locality\n",
    "suburbs=suburbs.drop_duplicates(subset='PostcodeLocality', keep=\"first\")\n",
    "suburbs=suburbs.drop(suburbs[suburbs.Category!='Delivery Area'].index)\n",
    "for ind,row in suburbs.iterrows():\n",
    "    if 'Melbourne' not in str(row['SA4 Name']):\n",
    "        suburbs=suburbs.drop([ind])\n",
    "suburbs=suburbs.drop(['ID','Category','Type','Status','PostcodeLocality'],axis=1)"
   ]
  },
  {
   "cell_type": "code",
   "execution_count": 4,
   "metadata": {},
   "outputs": [],
   "source": [
    "# save suburb data\n",
    "suburbs.to_csv('../source/suburbs.csv',index=False)"
   ]
  },
  {
   "cell_type": "code",
   "execution_count": null,
   "metadata": {},
   "outputs": [],
   "source": []
  }
 ],
 "metadata": {
  "kernelspec": {
   "display_name": "Python 3",
   "language": "python",
   "name": "python3"
  },
  "language_info": {
   "codemirror_mode": {
    "name": "ipython",
    "version": 3
   },
   "file_extension": ".py",
   "mimetype": "text/x-python",
   "name": "python",
   "nbconvert_exporter": "python",
   "pygments_lexer": "ipython3",
   "version": "3.8.3"
  }
 },
 "nbformat": 4,
 "nbformat_minor": 4
}
