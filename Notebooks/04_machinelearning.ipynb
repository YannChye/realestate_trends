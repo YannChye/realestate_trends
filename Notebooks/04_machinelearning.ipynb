{
 "cells": [
  {
   "cell_type": "code",
   "execution_count": 1,
   "metadata": {},
   "outputs": [],
   "source": [
    "import pandas as pd\n",
    "from datetime import datetime as dt\n",
    "import numpy as np\n",
    "import matplotlib.pyplot as plt"
   ]
  },
  {
   "cell_type": "code",
   "execution_count": 2,
   "metadata": {},
   "outputs": [],
   "source": [
    "listings=pd.read_csv(\"../source/clean/listings_all_ml.csv.gz\")"
   ]
  },
  {
   "cell_type": "code",
   "execution_count": 3,
   "metadata": {},
   "outputs": [
    {
     "data": {
      "text/plain": [
       "91174"
      ]
     },
     "execution_count": 3,
     "metadata": {},
     "output_type": "execute_result"
    }
   ],
   "source": [
    "len(listings)"
   ]
  },
  {
   "cell_type": "code",
   "execution_count": 4,
   "metadata": {},
   "outputs": [],
   "source": [
    "# create training and validation sets\n",
    "traintest_set=listings.iloc[0:(round(len(listings)*0.9)),:]\n",
    "validation_set=listings.iloc[(round(len(listings)*0.9)):len(listings),:]"
   ]
  },
  {
   "cell_type": "code",
   "execution_count": 5,
   "metadata": {},
   "outputs": [
    {
     "name": "stdout",
     "output_type": "stream",
     "text": [
      "(82057, 554) (82057,) (9117, 554) (9117,)\n"
     ]
    }
   ],
   "source": [
    "# create x and y variables\n",
    "X=traintest_set.drop([\"SoldPrice\"],axis=1)\n",
    "y=traintest_set[\"SoldPrice\"].values\n",
    "X_validation=validation_set.drop([\"SoldPrice\"],axis=1)\n",
    "y_validation=validation_set[\"SoldPrice\"].values\n",
    "print(X.shape,y.shape,X_validation.shape,y_validation.shape)"
   ]
  },
  {
   "cell_type": "code",
   "execution_count": 6,
   "metadata": {},
   "outputs": [],
   "source": [
    "# scale the predictors\n",
    "from sklearn.preprocessing import StandardScaler\n",
    "X_scaler=StandardScaler().fit(X)\n",
    "X_scaled=X_scaler.transform(X)\n",
    "X_validation_scaled=X_scaler.transform(X_validation)"
   ]
  },
  {
   "cell_type": "code",
   "execution_count": 7,
   "metadata": {},
   "outputs": [],
   "source": [
    "# using random forest regressor\n",
    "from sklearn.ensemble import RandomForestRegressor\n",
    "rfReg=RandomForestRegressor(random_state=31)"
   ]
  },
  {
   "cell_type": "code",
   "execution_count": 8,
   "metadata": {},
   "outputs": [
    {
     "name": "stdout",
     "output_type": "stream",
     "text": [
      "[0.63931916 0.61451322 0.70500631 0.66862047 0.67513231]\n"
     ]
    }
   ],
   "source": [
    "from sklearn.model_selection import TimeSeriesSplit\n",
    "from sklearn.model_selection import cross_val_score\n",
    "\n",
    "time_split = TimeSeriesSplit(n_splits=5)\n",
    "score=cross_val_score(rfReg,X_scaled,y,cv=time_split,scoring=\"r2\",n_jobs=4)\n",
    "print(score)"
   ]
  },
  {
   "cell_type": "code",
   "execution_count": 9,
   "metadata": {},
   "outputs": [
    {
     "data": {
      "text/plain": [
       "Latitude                          0.153316\n",
       "Longitude                         0.147456\n",
       "Bath                              0.138103\n",
       "Suburb_TOORAK                     0.068987\n",
       "SoldYear                          0.054869\n",
       "Bed                               0.050352\n",
       "SoldMethod_SoldByAuction          0.038926\n",
       "crime_rate_lga                    0.032758\n",
       "swimmingpool                      0.025305\n",
       "SoldDay                           0.024604\n",
       "Type_ApartmentUnitFlat            0.024050\n",
       "Car                               0.022225\n",
       "tenniscourt                       0.021288\n",
       "offence_count                     0.019508\n",
       "Floorplan_True                    0.016792\n",
       "SoldMonth                         0.014908\n",
       "Type_House                        0.012282\n",
       "Suburb_EAST MELBOURNE             0.006980\n",
       "Suburb_MALVERN                    0.006531\n",
       "Suburb_CANTERBURY                 0.005920\n",
       "study                             0.005120\n",
       "Suburb_ARMADALE                   0.004958\n",
       "Suburb_CLIFTON HILL               0.004247\n",
       "secureparking                     0.004116\n",
       "ensuite                           0.003810\n",
       "heating                           0.003787\n",
       "gas                               0.003784\n",
       "Type_Townhouse                    0.003689\n",
       "Suburb_OAKLEIGH EAST              0.003370\n",
       "Suburb_BRIGHTON                   0.003253\n",
       "airconditioning                   0.003080\n",
       "bath                              0.002731\n",
       "shed                              0.002587\n",
       "floorboards                       0.002585\n",
       "northfacing                       0.002346\n",
       "intercom                          0.002048\n",
       "builtinwardrobes                  0.001884\n",
       "dishwasher                        0.001873\n",
       "SoldMethod_SoldByPrivateTreaty    0.001732\n",
       "Suburb_MIDDLE PARK                0.001691\n",
       "Suburb_ALBERT PARK                0.001603\n",
       "Suburb_GLEN WAVERLEY              0.001517\n",
       "gym                               0.001428\n",
       "indoorspa                         0.001410\n",
       "cityviews                         0.001384\n",
       "Suburb_NARRE WARREN NORTH         0.001223\n",
       "groundfloor                       0.001208\n",
       "petsallowed                       0.001117\n",
       "Suburb_CLAYTON                    0.001084\n",
       "Suburb_KOOYONG                    0.001075\n",
       "dtype: float64"
      ]
     },
     "execution_count": 9,
     "metadata": {},
     "output_type": "execute_result"
    }
   ],
   "source": [
    "# use feature importance to select features to include in final model\n",
    "rfReg.fit(X_scaled,y)\n",
    "\n",
    "importances = pd.Series(data=rfReg.feature_importances_ , index= X.columns)\n",
    "importance_sorted=importances.sort_values(ascending=False)\n",
    "\n",
    "importance_sorted[0:50]"
   ]
  },
  {
   "cell_type": "code",
   "execution_count": 10,
   "metadata": {},
   "outputs": [],
   "source": [
    "# only select top 20 features\n",
    "features=importance_sorted[0:20].index.tolist()\n",
    "\n",
    "X2=traintest_set[features]\n",
    "X2_validation=validation_set[features]\n",
    "\n",
    "X2_scaler=StandardScaler().fit(X2)\n",
    "X2_scaled=X2_scaler.transform(X2)\n",
    "X2_validation_scaled=X2_scaler.transform(X2_validation)"
   ]
  },
  {
   "cell_type": "code",
   "execution_count": 11,
   "metadata": {
    "scrolled": true
   },
   "outputs": [
    {
     "name": "stdout",
     "output_type": "stream",
     "text": [
      "[0.64755243 0.66646253 0.69142525 0.6740255  0.67371105]\n"
     ]
    }
   ],
   "source": [
    "rfReg2=RandomForestRegressor(random_state=14)\n",
    "score=cross_val_score(rfReg2,X2_scaled,y,cv=time_split,scoring=\"r2\",n_jobs=4)\n",
    "print(score)"
   ]
  },
  {
   "cell_type": "code",
   "execution_count": 12,
   "metadata": {},
   "outputs": [
    {
     "data": {
      "text/plain": [
       "RandomForestRegressor(random_state=14)"
      ]
     },
     "execution_count": 12,
     "metadata": {},
     "output_type": "execute_result"
    }
   ],
   "source": [
    "rfReg2.fit(X2_scaled, y)"
   ]
  },
  {
   "cell_type": "code",
   "execution_count": 13,
   "metadata": {},
   "outputs": [
    {
     "data": {
      "text/plain": [
       "<matplotlib.axes._subplots.AxesSubplot at 0x7fb2b5044bb0>"
      ]
     },
     "execution_count": 13,
     "metadata": {},
     "output_type": "execute_result"
    },
    {
     "data": {
      "image/png": "[encoded data removed]",
      "text/plain": [
       "<Figure size 432x288 with 1 Axes>"
      ]
     },
     "metadata": {
      "needs_background": "light"
     },
     "output_type": "display_data"
    }
   ],
   "source": [
    "importances = pd.Series(data=rfReg2.feature_importances_ , index= X2.columns)\n",
    "importance_sorted=importances.sort_values(ascending=False)\n",
    "importance_sorted.plot(kind=\"bar\", color=\"blue\")"
   ]
  },
  {
   "cell_type": "code",
   "execution_count": 14,
   "metadata": {},
   "outputs": [],
   "source": [
    "# end up not running randomizedsearchcv because it took too long\n",
    "from sklearn.model_selection import RandomizedSearchCV\n",
    "param_grid = { \n",
    "    #'n_estimators': [100,200,300,400,500,600,700,800,900,1000],\n",
    "    'n_estimators': [100,300,500,700,900],\n",
    "    'max_features': ['auto','sqrt'],\n",
    "    'max_depth':[None],\n",
    "    'min_samples_split':[2],\n",
    "    #'max_depth' : [None,1,2,3,4,5,10,15],\n",
    "    #'criterion' :['mse','mae'],\n",
    "    #'min_samples_split':[2,5,10],\n",
    "    'bootstrap' :[True, False]\n",
    "}\n",
    "\n",
    "rf_random = RandomizedSearchCV(estimator=rfReg2,param_distributions=param_grid, \n",
    "                               n_iter=200,cv=time_split,verbose=3,random_state=42,n_jobs=-1)"
   ]
  },
  {
   "cell_type": "code",
   "execution_count": 15,
   "metadata": {
    "scrolled": true
   },
   "outputs": [
    {
     "name": "stdout",
     "output_type": "stream",
     "text": [
      "Fitting 5 folds for each of 20 candidates, totalling 100 fits\n"
     ]
    },
    {
     "name": "stderr",
     "output_type": "stream",
     "text": [
      "/Users/yannyinc/anaconda3/lib/python3.8/site-packages/sklearn/model_selection/_search.py:278: UserWarning: The total space of parameters 20 is smaller than n_iter=200. Running 20 iterations. For exhaustive searches, use GridSearchCV.\n",
      "  warnings.warn(\n",
      "[Parallel(n_jobs=-1)]: Using backend LokyBackend with 8 concurrent workers.\n",
      "[Parallel(n_jobs=-1)]: Done  16 tasks      | elapsed: 13.8min\n",
      "[Parallel(n_jobs=-1)]: Done 100 out of 100 | elapsed: 90.5min finished\n"
     ]
    },
    {
     "data": {
      "text/plain": [
       "RandomizedSearchCV(cv=TimeSeriesSplit(max_train_size=None, n_splits=5),\n",
       "                   estimator=RandomForestRegressor(random_state=14), n_iter=200,\n",
       "                   n_jobs=-1,\n",
       "                   param_distributions={'bootstrap': [True, False],\n",
       "                                        'max_depth': [None],\n",
       "                                        'max_features': ['auto', 'sqrt'],\n",
       "                                        'min_samples_split': [2],\n",
       "                                        'n_estimators': [100, 300, 500, 700,\n",
       "                                                         900]},\n",
       "                   random_state=42, verbose=3)"
      ]
     },
     "execution_count": 15,
     "metadata": {},
     "output_type": "execute_result"
    }
   ],
   "source": [
    "rf_random.fit(X2_scaled,y)"
   ]
  },
  {
   "cell_type": "code",
   "execution_count": 16,
   "metadata": {},
   "outputs": [
    {
     "name": "stdout",
     "output_type": "stream",
     "text": [
      "{'n_estimators': 700, 'min_samples_split': 2, 'max_features': 'auto', 'max_depth': None, 'bootstrap': True}\n",
      "0.6754621204848457\n"
     ]
    }
   ],
   "source": [
    "print(rf_random.best_params_)\n",
    "print(rf_random.best_score_)"
   ]
  },
  {
   "cell_type": "code",
   "execution_count": 17,
   "metadata": {},
   "outputs": [
    {
     "name": "stdout",
     "output_type": "stream",
     "text": [
      "[0.60554505 0.63537535 0.73588122 0.67520001 0.69887649]\n"
     ]
    }
   ],
   "source": [
    "# trying a different model\n",
    "import xgboost as xgb\n",
    "xgb_model = xgb.XGBRegressor() \n",
    "score=cross_val_score(xgb_model,X2_scaled,y,cv=time_split,scoring=\"r2\",n_jobs=4)\n",
    "print(score)"
   ]
  },
  {
   "cell_type": "code",
   "execution_count": 24,
   "metadata": {},
   "outputs": [],
   "source": [
    "rf_final=RandomForestRegressor(n_estimators=700,min_samples_split=2,max_features='auto',\n",
    "                                 max_depth=None,bootstrap=True,random_state=42)\n",
    "xgb_final=xgb.XGBRegressor(n_estimators=700,random_state=42)"
   ]
  },
  {
   "cell_type": "code",
   "execution_count": 25,
   "metadata": {},
   "outputs": [
    {
     "data": {
      "text/plain": [
       "XGBRegressor(base_score=0.5, booster='gbtree', colsample_bylevel=1,\n",
       "             colsample_bynode=1, colsample_bytree=1, gamma=0, gpu_id=-1,\n",
       "             importance_type='gain', interaction_constraints='',\n",
       "             learning_rate=0.300000012, max_delta_step=0, max_depth=6,\n",
       "             min_child_weight=1, missing=nan, monotone_constraints='()',\n",
       "             n_estimators=700, n_jobs=0, num_parallel_tree=1, random_state=42,\n",
       "             reg_alpha=0, reg_lambda=1, scale_pos_weight=1, subsample=1,\n",
       "             tree_method='exact', validate_parameters=1, verbosity=None)"
      ]
     },
     "execution_count": 25,
     "metadata": {},
     "output_type": "execute_result"
    }
   ],
   "source": [
    "rf_final.fit(X2_scaled,y)\n",
    "xgb_final.fit(X2_scaled,y)"
   ]
  },
  {
   "cell_type": "code",
   "execution_count": 26,
   "metadata": {},
   "outputs": [],
   "source": [
    "from sklearn.metrics import explained_variance_score\n",
    "from sklearn.metrics import max_error\n",
    "from sklearn.metrics import mean_absolute_error\n",
    "from sklearn.metrics import mean_squared_error\n",
    "from sklearn.metrics import r2_score\n",
    "\n",
    "scores = pd.DataFrame()\n",
    "for model in [rf_final,xgb_final]:\n",
    "    predictions = model.predict(X2_validation_scaled)\n",
    "    mae = round(mean_absolute_error(y_validation, predictions), 4)\n",
    "    mse = round(mean_squared_error(y_validation, predictions), 4)\n",
    "    r2 = round(r2_score(y_validation, predictions), 4)\n",
    "    m_errors = round(max_error(y_validation, predictions),4)\n",
    "    exp_variance = round(explained_variance_score(y_validation, predictions),4)\n",
    "    scores[str(model)] = [mae, mse, r2, m_errors, exp_variance]\n",
    "scores.index = ['Mean Absolute Error', 'Mean Squared Error', 'R^2', 'Max Error', 'Explained Variance']"
   ]
  },
  {
   "cell_type": "code",
   "execution_count": 27,
   "metadata": {},
   "outputs": [
    {
     "data": {
      "text/html": [
       "<div>\n",
       "<style scoped>\n",
       "    .dataframe tbody tr th:only-of-type {\n",
       "        vertical-align: middle;\n",
       "    }\n",
       "\n",
       "    .dataframe tbody tr th {\n",
       "        vertical-align: top;\n",
       "    }\n",
       "\n",
       "    .dataframe thead th {\n",
       "        text-align: right;\n",
       "    }\n",
       "</style>\n",
       "<table border=\"1\" class=\"dataframe\">\n",
       "  <thead>\n",
       "    <tr style=\"text-align: right;\">\n",
       "      <th></th>\n",
       "      <th>random forest regression</th>\n",
       "      <th>xgb regressor</th>\n",
       "    </tr>\n",
       "  </thead>\n",
       "  <tbody>\n",
       "    <tr>\n",
       "      <th>Mean Absolute Error</th>\n",
       "      <td>1.393596e+05</td>\n",
       "      <td>1.472166e+05</td>\n",
       "    </tr>\n",
       "    <tr>\n",
       "      <th>Mean Squared Error</th>\n",
       "      <td>8.739733e+10</td>\n",
       "      <td>8.858826e+10</td>\n",
       "    </tr>\n",
       "    <tr>\n",
       "      <th>R^2</th>\n",
       "      <td>6.847000e-01</td>\n",
       "      <td>6.804000e-01</td>\n",
       "    </tr>\n",
       "    <tr>\n",
       "      <th>Max Error</th>\n",
       "      <td>1.282536e+07</td>\n",
       "      <td>1.272317e+07</td>\n",
       "    </tr>\n",
       "    <tr>\n",
       "      <th>Explained Variance</th>\n",
       "      <td>6.847000e-01</td>\n",
       "      <td>6.834000e-01</td>\n",
       "    </tr>\n",
       "  </tbody>\n",
       "</table>\n",
       "</div>"
      ],
      "text/plain": [
       "                     random forest regression  xgb regressor\n",
       "Mean Absolute Error              1.393596e+05   1.472166e+05\n",
       "Mean Squared Error               8.739733e+10   8.858826e+10\n",
       "R^2                              6.847000e-01   6.804000e-01\n",
       "Max Error                        1.282536e+07   1.272317e+07\n",
       "Explained Variance               6.847000e-01   6.834000e-01"
      ]
     },
     "execution_count": 27,
     "metadata": {},
     "output_type": "execute_result"
    }
   ],
   "source": [
    "# both xgb and rf have similar performance, with rf having slightly higher r2 and slightly lower mean squared error\n",
    "scores.columns=['random forest regression','xgb regressor']\n",
    "scores"
   ]
  },
  {
   "cell_type": "code",
   "execution_count": 28,
   "metadata": {},
   "outputs": [
    {
     "data": {
      "text/plain": [
       "<matplotlib.axes._subplots.AxesSubplot at 0x7fb148554e80>"
      ]
     },
     "execution_count": 28,
     "metadata": {},
     "output_type": "execute_result"
    },
    {
     "data": {
      "image/png": "[encoded data removed]",
      "text/plain": [
       "<Figure size 432x288 with 1 Axes>"
      ]
     },
     "metadata": {
      "needs_background": "light"
     },
     "output_type": "display_data"
    }
   ],
   "source": [
    "importances = pd.Series(data=rf_final.feature_importances_ , index= X2.columns)\n",
    "importance_sorted=importances.sort_values(ascending=False)\n",
    "importance_sorted.plot(kind=\"bar\", color=\"blue\")"
   ]
  },
  {
   "cell_type": "code",
   "execution_count": 29,
   "metadata": {},
   "outputs": [
    {
     "data": {
      "text/plain": [
       "['../model/std_scaler.bin']"
      ]
     },
     "execution_count": 29,
     "metadata": {},
     "output_type": "execute_result"
    }
   ],
   "source": [
    "# save final model\n",
    "import joblib\n",
    "joblib.dump(xgb_final, '../model/xgb_final.sav')\n",
    "joblib.dump(rf_final, '../model/rf_final.sav',compress=1)\n",
    "joblib.dump(X2_scaler, '../model/std_scaler.bin', compress=True)"
   ]
  },
  {
   "cell_type": "code",
   "execution_count": 21,
   "metadata": {},
   "outputs": [
    {
     "data": {
      "text/plain": [
       "<matplotlib.collections.PathCollection at 0x7f7d25815460>"
      ]
     },
     "execution_count": 21,
     "metadata": {},
     "output_type": "execute_result"
    },
    {
     "data": {
      "image/png": "[encoded data removed]",
      "text/plain": [
       "<Figure size 432x288 with 1 Axes>"
      ]
     },
     "metadata": {
      "needs_background": "light"
     },
     "output_type": "display_data"
    }
   ],
   "source": [
    "import matplotlib.pyplot as plt\n",
    "plt.scatter(y_validation, predictions)"
   ]
  },
  {
   "cell_type": "code",
   "execution_count": null,
   "metadata": {},
   "outputs": [],
   "source": []
  }
 ],
 "metadata": {
  "kernelspec": {
   "display_name": "Python 3",
   "language": "python",
   "name": "python3"
  },
  "language_info": {
   "codemirror_mode": {
    "name": "ipython",
    "version": 3
   },
   "file_extension": ".py",
   "mimetype": "text/x-python",
   "name": "python",
   "nbconvert_exporter": "python",
   "pygments_lexer": "ipython3",
   "version": "3.8.3"
  }
 },
 "nbformat": 4,
 "nbformat_minor": 4
}
