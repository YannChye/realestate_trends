{
 "cells": [
  {
   "cell_type": "code",
   "execution_count": 1,
   "metadata": {},
   "outputs": [],
   "source": [
    "# import dependencies\n",
    "import json\n",
    "import requests\n",
    "import re, string, timeit\n",
    "import time\n",
    "import pandas as pd\n",
    "from datetime import datetime as dt\n",
    "import sys\n",
    "sys.path.append('../config')\n",
    "from password import client_id, client_secret"
   ]
  },
  {
   "cell_type": "code",
   "execution_count": 2,
   "metadata": {},
   "outputs": [],
   "source": [
    "# read list of suburbs\n",
    "suburbs_df=pd.read_csv('../source/suburbs.csv')"
   ]
  },
  {
   "cell_type": "code",
   "execution_count": 3,
   "metadata": {},
   "outputs": [
    {
     "data": {
      "text/plain": [
       "259"
      ]
     },
     "execution_count": 3,
     "metadata": {},
     "output_type": "execute_result"
    }
   ],
   "source": [
    "postcode=suburbs_df.drop_duplicates('Postcode')\n",
    "postcode=list(postcode['Postcode'])\n",
    "page=[1,2,3,4,5]\n",
    "len(postcode)"
   ]
  },
  {
   "cell_type": "code",
   "execution_count": 4,
   "metadata": {},
   "outputs": [],
   "source": [
    "listingState=[]\n",
    "listingFeature=[]\n",
    "listingPropType=[]\n",
    "listingBath=[]\n",
    "listingBed=[]\n",
    "listingCar=[]\n",
    "listingSub=[]\n",
    "listingPCode=[]\n",
    "listingAdd=[]\n",
    "listingLat=[]\n",
    "listingLong=[]\n",
    "listingFPlan=[]\n",
    "listingSoldMethod=[]\n",
    "listingSoldDate=[]\n",
    "listingSoldPrice=[]"
   ]
  },
  {
   "cell_type": "code",
   "execution_count": 5,
   "metadata": {},
   "outputs": [],
   "source": [
    "# POST request for token\n",
    "response = requests.post('https://auth.domain.com.au/v1/connect/token', data = {'client_id':client_id,\"client_secret\":client_secret,\"grant_type\":\"client_credentials\",\"scope\":\"api_listings_read\",\"Content-Type\":\"text/json\"})\n",
    "token=response.json()\n",
    "access_token=token[\"access_token\"]\n",
    "auth = {\"Authorization\":\"Bearer \"+access_token}"
   ]
  },
  {
   "cell_type": "code",
   "execution_count": 6,
   "metadata": {},
   "outputs": [],
   "source": [
    "def getListing(postcode,date):\n",
    "    print(f'postcode={postcode}')\n",
    "    time.sleep(1)\n",
    "    url = \"https://api.domain.com.au/v1/listings/residential/_search\" # Set destination URL here\n",
    "    post_fields ={\n",
    "        \"listingType\":\"Sold\",\n",
    "        \"propertyTypes\":[\"ApartmentUnitFlat\",\"House\",\"NewApartments\",\"Townhouse\"],\n",
    "        \"locations\":[\n",
    "            {\n",
    "                \"state\":\"VIC\",\n",
    "                \"postCode\":postcode,\n",
    "                \"includeSurroundingSuburbs\":False\n",
    "            }\n",
    "        ],\n",
    "        \"excludePriceWithheld\": True,\n",
    "        \"sort\": {\n",
    "        \"sortKey\": \"SoldDate\",\n",
    "        \"direction\": \"Ascending\",\n",
    "        \"proximityTo\": {\n",
    "            \"lat\": 0,\n",
    "            \"lon\": 0\n",
    "            }\n",
    "        },\n",
    "        \"pageSize\": 200,\n",
    "        \"pageNumber\":0,\n",
    "        \"updatedSince\": date,\n",
    "    }\n",
    "    try:\n",
    "        request = requests.post(url,headers=auth,json=post_fields)\n",
    "        l=request.json()\n",
    "        for listing in l:\n",
    "            try:\n",
    "                listingState.append(listing[\"listing\"][\"propertyDetails\"][\"state\"])\n",
    "            except:\n",
    "                listingState.append(\"NA\")\n",
    "            try:\n",
    "                listingFeature.append(listing[\"listing\"][\"propertyDetails\"][\"features\"])\n",
    "            except:\n",
    "                listingFeature.append(\"NA\")\n",
    "            try:\n",
    "                listingPropType.append(listing[\"listing\"][\"propertyDetails\"][\"propertyType\"])\n",
    "            except:\n",
    "                listingPropType.append(\"NA\")\n",
    "            try:\n",
    "                listingBath.append(listing[\"listing\"][\"propertyDetails\"][\"bathrooms\"])\n",
    "            except:\n",
    "                listingBath.append(\"NA\")\n",
    "            try:\n",
    "                listingBed.append(listing[\"listing\"][\"propertyDetails\"][\"bedrooms\"])\n",
    "            except:\n",
    "                listingBed.append(\"NA\")\n",
    "            try:\n",
    "                listingCar.append(listing[\"listing\"][\"propertyDetails\"][\"carspaces\"])\n",
    "            except:\n",
    "                listingCar.append(\"NA\")\n",
    "            try:\n",
    "                listingSub.append(listing[\"listing\"][\"propertyDetails\"][\"suburb\"])\n",
    "            except:\n",
    "                listingSub.append(\"NA\")\n",
    "            try:\n",
    "                listingPCode.append(listing[\"listing\"][\"propertyDetails\"][\"postcode\"])\n",
    "            except:\n",
    "                listingPCode.append(\"NA\")\n",
    "            try:\n",
    "                listingAdd.append(listing[\"listing\"][\"propertyDetails\"][\"displayableAddress\"])\n",
    "            except:\n",
    "                listingAdd.append(\"NA\")\n",
    "            try:\n",
    "                listingLat.append(listing[\"listing\"][\"propertyDetails\"][\"latitude\"])\n",
    "            except:\n",
    "                listingLat.append(\"NA\")\n",
    "            try:\n",
    "                listingLong.append(listing[\"listing\"][\"propertyDetails\"][\"longitude\"])\n",
    "            except:\n",
    "                listingLong.append(\"NA\")\n",
    "            try:\n",
    "                listingFPlan.append(listing[\"listing\"][\"hasFloorplan\"])\n",
    "            except:\n",
    "                listingFPlan.append(\"NA\")\n",
    "            try:\n",
    "                listingSoldMethod.append(listing[\"listing\"][\"soldData\"][\"saleMethod\"])\n",
    "            except:\n",
    "                listingSoldMethod.append(\"NA\")\n",
    "            try:\n",
    "                listingSoldDate.append(listing[\"listing\"][\"soldData\"][\"soldDate\"])\n",
    "            except:\n",
    "                listingSoldDate.append(\"NA\")\n",
    "            try:\n",
    "                listingSoldPrice.append(listing[\"listing\"][\"soldData\"][\"soldPrice\"])\n",
    "            except:\n",
    "                listingSoldPrice.append(\"NA\")\n",
    "    except:\n",
    "        pass"
   ]
  },
  {
   "cell_type": "code",
   "execution_count": 7,
   "metadata": {},
   "outputs": [],
   "source": [
    "date=[\"2011-01-01T00:00:00.000Z\",\"2012-01-01T00:00:00.000Z\",\"2013-01-01T00:00:00.000Z\",\"2014-01-01T00:00:00.000Z\",\\\n",
    "     \"2015-01-01T00:00:00.000Z\",\"2016-01-01T00:00:00.000Z\",\"2017-01-01T00:00:00.000Z\",\"2018-01-01T00:00:00.000Z\",\\\n",
    "     \"2019-01-01T00:00:00.000Z\",\"2020-01-01T00:00:00.000Z\"]"
   ]
  },
  {
   "cell_type": "code",
   "execution_count": 8,
   "metadata": {
    "scrolled": true
   },
   "outputs": [],
   "source": [
    "# Start your loop, changing date called\n",
    "# Doing it bit by bit because there is a limit to the number of api calls that can be made\n",
    "for j in postcode:\n",
    "    getListing(j,date[0])"
   ]
  },
  {
   "cell_type": "code",
   "execution_count": 9,
   "metadata": {},
   "outputs": [],
   "source": [
    "listing_df=pd.DataFrame(\n",
    "    {\n",
    "        \"State\":listingState,\n",
    "        \"Feature\":listingFeature,\n",
    "        \"Type\":listingPropType,\n",
    "        \"Bath\":listingBath,\n",
    "        \"Bed\":listingBed,\n",
    "        \"Car\":listingCar,\n",
    "        \"Suburb\":listingSub,\n",
    "        \"Postcode\":listingPCode,\n",
    "        \"Address\":listingAdd,\n",
    "        \"Latitude\":listingLat,\n",
    "        \"Longitude\":listingLong,\n",
    "        \"Floorplan\":listingFPlan,\n",
    "        \"SoldMethod\":listingSoldMethod,\n",
    "        \"SoldDate\":listingSoldDate,\n",
    "        \"SoldPrice\":listingSoldPrice\n",
    "    }\n",
    ")"
   ]
  },
  {
   "cell_type": "code",
   "execution_count": 10,
   "metadata": {},
   "outputs": [],
   "source": [
    "listing_df.to_csv(\"../source/listings.csv\",index=False)"
   ]
  },
  {
   "cell_type": "code",
   "execution_count": null,
   "metadata": {},
   "outputs": [],
   "source": []
  }
 ],
 "metadata": {
  "kernelspec": {
   "display_name": "Python 3",
   "language": "python",
   "name": "python3"
  },
  "language_info": {
   "codemirror_mode": {
    "name": "ipython",
    "version": 3
   },
   "file_extension": ".py",
   "mimetype": "text/x-python",
   "name": "python",
   "nbconvert_exporter": "python",
   "pygments_lexer": "ipython3",
   "version": "3.8.3"
  }
 },
 "nbformat": 4,
 "nbformat_minor": 4
}
