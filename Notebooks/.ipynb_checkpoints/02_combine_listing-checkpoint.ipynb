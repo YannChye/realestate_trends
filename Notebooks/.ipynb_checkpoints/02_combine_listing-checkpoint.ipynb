{
 "cells": [
  {
   "cell_type": "code",
   "execution_count": 1,
   "metadata": {},
   "outputs": [],
   "source": [
    "# import dependencies\n",
    "import pandas as pd\n",
    "import numpy as np\n",
    "import matplotlib.pyplot as plt"
   ]
  },
  {
   "cell_type": "code",
   "execution_count": 2,
   "metadata": {
    "scrolled": true
   },
   "outputs": [
    {
     "name": "stderr",
     "output_type": "stream",
     "text": [
      "/Users/yannyinc/anaconda3/lib/python3.8/site-packages/IPython/core/interactiveshell.py:3071: DtypeWarning: Columns (0,18) have mixed types.Specify dtype option on import or set low_memory=False.\n",
      "  has_raised = await self.run_ast_nodes(code_ast.body, cell_name,\n"
     ]
    }
   ],
   "source": [
    "# read listings\n",
    "l1=pd.read_csv(\"../source/listing_p1.csv\")\n",
    "l2=pd.read_csv(\"../source/listing_p2.csv\")\n",
    "l3=pd.read_csv(\"../source/listing_p3.csv\")\n",
    "l4=pd.read_csv(\"../source/listing_p4.csv\")\n",
    "l5=pd.read_csv(\"../source/listing_p5.csv\")"
   ]
  },
  {
   "cell_type": "code",
   "execution_count": 3,
   "metadata": {},
   "outputs": [],
   "source": [
    "# combine listings\n",
    "listings=pd.concat([l1,l2,l3,l4,l5])"
   ]
  },
  {
   "cell_type": "code",
   "execution_count": 4,
   "metadata": {},
   "outputs": [
    {
     "data": {
      "text/plain": [
       "Id             91973\n",
       "AdType         91973\n",
       "AdName         91973\n",
       "State          91973\n",
       "Feature        91973\n",
       "Type           91973\n",
       "Bath           91973\n",
       "Bed            91973\n",
       "Car            91973\n",
       "Area           91973\n",
       "Region         91973\n",
       "Suburb         91973\n",
       "Postcode       91973\n",
       "Address        91973\n",
       "Latitude       91973\n",
       "Longitude      91973\n",
       "Headline       91973\n",
       "Description    91973\n",
       "Floorplan      91973\n",
       "SoldMethod     91973\n",
       "SoldDate       91973\n",
       "SoldPrice      91973\n",
       "dtype: int64"
      ]
     },
     "execution_count": 4,
     "metadata": {},
     "output_type": "execute_result"
    }
   ],
   "source": [
    "listings=listings.dropna()\n",
    "# only keeping past 10 years' worth of listings\n",
    "listings[\"SoldDate\"]=pd.to_datetime(listings[\"SoldDate\"], format='%Y-%m-%d')\n",
    "listings=listings.drop(listings[listings[\"SoldDate\"].dt.year<2011].index)\n",
    "listings.count()"
   ]
  },
  {
   "cell_type": "code",
   "execution_count": 5,
   "metadata": {},
   "outputs": [],
   "source": [
    "listings=listings.drop(['AdType','State','Headline','Description'],axis=1)"
   ]
  },
  {
   "cell_type": "code",
   "execution_count": 6,
   "metadata": {},
   "outputs": [],
   "source": [
    "# save all listings\n",
    "listings.to_csv(\"../source/listings_all.csv\",index=False)"
   ]
  },
  {
   "cell_type": "code",
   "execution_count": null,
   "metadata": {},
   "outputs": [],
   "source": []
  }
 ],
 "metadata": {
  "kernelspec": {
   "display_name": "Python 3",
   "language": "python",
   "name": "python3"
  },
  "language_info": {
   "codemirror_mode": {
    "name": "ipython",
    "version": 3
   },
   "file_extension": ".py",
   "mimetype": "text/x-python",
   "name": "python",
   "nbconvert_exporter": "python",
   "pygments_lexer": "ipython3",
   "version": "3.8.3"
  }
 },
 "nbformat": 4,
 "nbformat_minor": 4
}
